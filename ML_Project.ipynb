{
  "nbformat": 4,
  "nbformat_minor": 0,
  "metadata": {
    "colab": {
      "name": "ML Project.ipynb",
      "provenance": [],
      "collapsed_sections": []
    },
    "kernelspec": {
      "display_name": "Python 3",
      "name": "python3"
    },
    "language_info": {
      "name": "python"
    },
    "widgets": {
      "application/vnd.jupyter.widget-state+json": {
        "ac03ed53d61e452eaeaf0d32189f55a9": {
          "model_module": "@jupyter-widgets/controls",
          "model_name": "HBoxModel",
          "model_module_version": "1.5.0",
          "state": {
            "_view_name": "HBoxView",
            "_dom_classes": [],
            "_model_name": "HBoxModel",
            "_view_module": "@jupyter-widgets/controls",
            "_model_module_version": "1.5.0",
            "_view_count": null,
            "_view_module_version": "1.5.0",
            "box_style": "",
            "layout": "IPY_MODEL_dce7a99cc7e647f6b1494415b4c7f485",
            "_model_module": "@jupyter-widgets/controls",
            "children": [
              "IPY_MODEL_b00b38d40b814876941d86508027aee0",
              "IPY_MODEL_2829be79535b48dbb8aae63ff251ea19"
            ]
          }
        },
        "dce7a99cc7e647f6b1494415b4c7f485": {
          "model_module": "@jupyter-widgets/base",
          "model_name": "LayoutModel",
          "model_module_version": "1.2.0",
          "state": {
            "_view_name": "LayoutView",
            "grid_template_rows": null,
            "right": null,
            "justify_content": null,
            "_view_module": "@jupyter-widgets/base",
            "overflow": null,
            "_model_module_version": "1.2.0",
            "_view_count": null,
            "flex_flow": null,
            "width": null,
            "min_width": null,
            "border": null,
            "align_items": null,
            "bottom": null,
            "_model_module": "@jupyter-widgets/base",
            "top": null,
            "grid_column": null,
            "overflow_y": null,
            "overflow_x": null,
            "grid_auto_flow": null,
            "grid_area": null,
            "grid_template_columns": null,
            "flex": null,
            "_model_name": "LayoutModel",
            "justify_items": null,
            "grid_row": null,
            "max_height": null,
            "align_content": null,
            "visibility": null,
            "align_self": null,
            "height": null,
            "min_height": null,
            "padding": null,
            "grid_auto_rows": null,
            "grid_gap": null,
            "max_width": null,
            "order": null,
            "_view_module_version": "1.2.0",
            "grid_template_areas": null,
            "object_position": null,
            "object_fit": null,
            "grid_auto_columns": null,
            "margin": null,
            "display": null,
            "left": null
          }
        },
        "b00b38d40b814876941d86508027aee0": {
          "model_module": "@jupyter-widgets/controls",
          "model_name": "FloatProgressModel",
          "model_module_version": "1.5.0",
          "state": {
            "_view_name": "ProgressView",
            "style": "IPY_MODEL_5092e0aa00d14610beee10abcaa71696",
            "_dom_classes": [],
            "description": "100%",
            "_model_name": "FloatProgressModel",
            "bar_style": "success",
            "max": 22541,
            "_view_module": "@jupyter-widgets/controls",
            "_model_module_version": "1.5.0",
            "value": 22541,
            "_view_count": null,
            "_view_module_version": "1.5.0",
            "orientation": "horizontal",
            "min": 0,
            "description_tooltip": null,
            "_model_module": "@jupyter-widgets/controls",
            "layout": "IPY_MODEL_9ad7988f66cb4084a4deefa8c9e459a4"
          }
        },
        "2829be79535b48dbb8aae63ff251ea19": {
          "model_module": "@jupyter-widgets/controls",
          "model_name": "HTMLModel",
          "model_module_version": "1.5.0",
          "state": {
            "_view_name": "HTMLView",
            "style": "IPY_MODEL_b1be8bbea4b240899161c5dc551582b0",
            "_dom_classes": [],
            "description": "",
            "_model_name": "HTMLModel",
            "placeholder": "​",
            "_view_module": "@jupyter-widgets/controls",
            "_model_module_version": "1.5.0",
            "value": " 22541/22541 [00:17&lt;00:00, 1286.48it/s]",
            "_view_count": null,
            "_view_module_version": "1.5.0",
            "description_tooltip": null,
            "_model_module": "@jupyter-widgets/controls",
            "layout": "IPY_MODEL_be623041f1d849299cf496c7f9a52c65"
          }
        },
        "5092e0aa00d14610beee10abcaa71696": {
          "model_module": "@jupyter-widgets/controls",
          "model_name": "ProgressStyleModel",
          "model_module_version": "1.5.0",
          "state": {
            "_view_name": "StyleView",
            "_model_name": "ProgressStyleModel",
            "description_width": "initial",
            "_view_module": "@jupyter-widgets/base",
            "_model_module_version": "1.5.0",
            "_view_count": null,
            "_view_module_version": "1.2.0",
            "bar_color": null,
            "_model_module": "@jupyter-widgets/controls"
          }
        },
        "9ad7988f66cb4084a4deefa8c9e459a4": {
          "model_module": "@jupyter-widgets/base",
          "model_name": "LayoutModel",
          "model_module_version": "1.2.0",
          "state": {
            "_view_name": "LayoutView",
            "grid_template_rows": null,
            "right": null,
            "justify_content": null,
            "_view_module": "@jupyter-widgets/base",
            "overflow": null,
            "_model_module_version": "1.2.0",
            "_view_count": null,
            "flex_flow": null,
            "width": null,
            "min_width": null,
            "border": null,
            "align_items": null,
            "bottom": null,
            "_model_module": "@jupyter-widgets/base",
            "top": null,
            "grid_column": null,
            "overflow_y": null,
            "overflow_x": null,
            "grid_auto_flow": null,
            "grid_area": null,
            "grid_template_columns": null,
            "flex": null,
            "_model_name": "LayoutModel",
            "justify_items": null,
            "grid_row": null,
            "max_height": null,
            "align_content": null,
            "visibility": null,
            "align_self": null,
            "height": null,
            "min_height": null,
            "padding": null,
            "grid_auto_rows": null,
            "grid_gap": null,
            "max_width": null,
            "order": null,
            "_view_module_version": "1.2.0",
            "grid_template_areas": null,
            "object_position": null,
            "object_fit": null,
            "grid_auto_columns": null,
            "margin": null,
            "display": null,
            "left": null
          }
        },
        "b1be8bbea4b240899161c5dc551582b0": {
          "model_module": "@jupyter-widgets/controls",
          "model_name": "DescriptionStyleModel",
          "model_module_version": "1.5.0",
          "state": {
            "_view_name": "StyleView",
            "_model_name": "DescriptionStyleModel",
            "description_width": "",
            "_view_module": "@jupyter-widgets/base",
            "_model_module_version": "1.5.0",
            "_view_count": null,
            "_view_module_version": "1.2.0",
            "_model_module": "@jupyter-widgets/controls"
          }
        },
        "be623041f1d849299cf496c7f9a52c65": {
          "model_module": "@jupyter-widgets/base",
          "model_name": "LayoutModel",
          "model_module_version": "1.2.0",
          "state": {
            "_view_name": "LayoutView",
            "grid_template_rows": null,
            "right": null,
            "justify_content": null,
            "_view_module": "@jupyter-widgets/base",
            "overflow": null,
            "_model_module_version": "1.2.0",
            "_view_count": null,
            "flex_flow": null,
            "width": null,
            "min_width": null,
            "border": null,
            "align_items": null,
            "bottom": null,
            "_model_module": "@jupyter-widgets/base",
            "top": null,
            "grid_column": null,
            "overflow_y": null,
            "overflow_x": null,
            "grid_auto_flow": null,
            "grid_area": null,
            "grid_template_columns": null,
            "flex": null,
            "_model_name": "LayoutModel",
            "justify_items": null,
            "grid_row": null,
            "max_height": null,
            "align_content": null,
            "visibility": null,
            "align_self": null,
            "height": null,
            "min_height": null,
            "padding": null,
            "grid_auto_rows": null,
            "grid_gap": null,
            "max_width": null,
            "order": null,
            "_view_module_version": "1.2.0",
            "grid_template_areas": null,
            "object_position": null,
            "object_fit": null,
            "grid_auto_columns": null,
            "margin": null,
            "display": null,
            "left": null
          }
        },
        "f8c41b7b130b4044bada3b44fc238642": {
          "model_module": "@jupyter-widgets/controls",
          "model_name": "HBoxModel",
          "model_module_version": "1.5.0",
          "state": {
            "_view_name": "HBoxView",
            "_dom_classes": [],
            "_model_name": "HBoxModel",
            "_view_module": "@jupyter-widgets/controls",
            "_model_module_version": "1.5.0",
            "_view_count": null,
            "_view_module_version": "1.5.0",
            "box_style": "",
            "layout": "IPY_MODEL_a1f3d730228a45ce8b32278e434817d6",
            "_model_module": "@jupyter-widgets/controls",
            "children": [
              "IPY_MODEL_f2b951266a714a18896107a92facbe01",
              "IPY_MODEL_e9e0c5713eef4e959604b0aa35ada825"
            ]
          }
        },
        "a1f3d730228a45ce8b32278e434817d6": {
          "model_module": "@jupyter-widgets/base",
          "model_name": "LayoutModel",
          "model_module_version": "1.2.0",
          "state": {
            "_view_name": "LayoutView",
            "grid_template_rows": null,
            "right": null,
            "justify_content": null,
            "_view_module": "@jupyter-widgets/base",
            "overflow": null,
            "_model_module_version": "1.2.0",
            "_view_count": null,
            "flex_flow": null,
            "width": null,
            "min_width": null,
            "border": null,
            "align_items": null,
            "bottom": null,
            "_model_module": "@jupyter-widgets/base",
            "top": null,
            "grid_column": null,
            "overflow_y": null,
            "overflow_x": null,
            "grid_auto_flow": null,
            "grid_area": null,
            "grid_template_columns": null,
            "flex": null,
            "_model_name": "LayoutModel",
            "justify_items": null,
            "grid_row": null,
            "max_height": null,
            "align_content": null,
            "visibility": null,
            "align_self": null,
            "height": null,
            "min_height": null,
            "padding": null,
            "grid_auto_rows": null,
            "grid_gap": null,
            "max_width": null,
            "order": null,
            "_view_module_version": "1.2.0",
            "grid_template_areas": null,
            "object_position": null,
            "object_fit": null,
            "grid_auto_columns": null,
            "margin": null,
            "display": null,
            "left": null
          }
        },
        "f2b951266a714a18896107a92facbe01": {
          "model_module": "@jupyter-widgets/controls",
          "model_name": "FloatProgressModel",
          "model_module_version": "1.5.0",
          "state": {
            "_view_name": "ProgressView",
            "style": "IPY_MODEL_a35e9e9bca7a43d4a9ac97ec0c24cc0b",
            "_dom_classes": [],
            "description": "100%",
            "_model_name": "FloatProgressModel",
            "bar_style": "success",
            "max": 5175,
            "_view_module": "@jupyter-widgets/controls",
            "_model_module_version": "1.5.0",
            "value": 5175,
            "_view_count": null,
            "_view_module_version": "1.5.0",
            "orientation": "horizontal",
            "min": 0,
            "description_tooltip": null,
            "_model_module": "@jupyter-widgets/controls",
            "layout": "IPY_MODEL_369414cbb5b74c3985bf662d4f46a077"
          }
        },
        "e9e0c5713eef4e959604b0aa35ada825": {
          "model_module": "@jupyter-widgets/controls",
          "model_name": "HTMLModel",
          "model_module_version": "1.5.0",
          "state": {
            "_view_name": "HTMLView",
            "style": "IPY_MODEL_3bc95aa0c7ac45968b4c5a6e28fd6518",
            "_dom_classes": [],
            "description": "",
            "_model_name": "HTMLModel",
            "placeholder": "​",
            "_view_module": "@jupyter-widgets/controls",
            "_model_module_version": "1.5.0",
            "value": " 5175/5175 [00:03&lt;00:00, 1397.34it/s]",
            "_view_count": null,
            "_view_module_version": "1.5.0",
            "description_tooltip": null,
            "_model_module": "@jupyter-widgets/controls",
            "layout": "IPY_MODEL_43f147e7dfe14292a88ef2b93c8e2768"
          }
        },
        "a35e9e9bca7a43d4a9ac97ec0c24cc0b": {
          "model_module": "@jupyter-widgets/controls",
          "model_name": "ProgressStyleModel",
          "model_module_version": "1.5.0",
          "state": {
            "_view_name": "StyleView",
            "_model_name": "ProgressStyleModel",
            "description_width": "initial",
            "_view_module": "@jupyter-widgets/base",
            "_model_module_version": "1.5.0",
            "_view_count": null,
            "_view_module_version": "1.2.0",
            "bar_color": null,
            "_model_module": "@jupyter-widgets/controls"
          }
        },
        "369414cbb5b74c3985bf662d4f46a077": {
          "model_module": "@jupyter-widgets/base",
          "model_name": "LayoutModel",
          "model_module_version": "1.2.0",
          "state": {
            "_view_name": "LayoutView",
            "grid_template_rows": null,
            "right": null,
            "justify_content": null,
            "_view_module": "@jupyter-widgets/base",
            "overflow": null,
            "_model_module_version": "1.2.0",
            "_view_count": null,
            "flex_flow": null,
            "width": null,
            "min_width": null,
            "border": null,
            "align_items": null,
            "bottom": null,
            "_model_module": "@jupyter-widgets/base",
            "top": null,
            "grid_column": null,
            "overflow_y": null,
            "overflow_x": null,
            "grid_auto_flow": null,
            "grid_area": null,
            "grid_template_columns": null,
            "flex": null,
            "_model_name": "LayoutModel",
            "justify_items": null,
            "grid_row": null,
            "max_height": null,
            "align_content": null,
            "visibility": null,
            "align_self": null,
            "height": null,
            "min_height": null,
            "padding": null,
            "grid_auto_rows": null,
            "grid_gap": null,
            "max_width": null,
            "order": null,
            "_view_module_version": "1.2.0",
            "grid_template_areas": null,
            "object_position": null,
            "object_fit": null,
            "grid_auto_columns": null,
            "margin": null,
            "display": null,
            "left": null
          }
        },
        "3bc95aa0c7ac45968b4c5a6e28fd6518": {
          "model_module": "@jupyter-widgets/controls",
          "model_name": "DescriptionStyleModel",
          "model_module_version": "1.5.0",
          "state": {
            "_view_name": "StyleView",
            "_model_name": "DescriptionStyleModel",
            "description_width": "",
            "_view_module": "@jupyter-widgets/base",
            "_model_module_version": "1.5.0",
            "_view_count": null,
            "_view_module_version": "1.2.0",
            "_model_module": "@jupyter-widgets/controls"
          }
        },
        "43f147e7dfe14292a88ef2b93c8e2768": {
          "model_module": "@jupyter-widgets/base",
          "model_name": "LayoutModel",
          "model_module_version": "1.2.0",
          "state": {
            "_view_name": "LayoutView",
            "grid_template_rows": null,
            "right": null,
            "justify_content": null,
            "_view_module": "@jupyter-widgets/base",
            "overflow": null,
            "_model_module_version": "1.2.0",
            "_view_count": null,
            "flex_flow": null,
            "width": null,
            "min_width": null,
            "border": null,
            "align_items": null,
            "bottom": null,
            "_model_module": "@jupyter-widgets/base",
            "top": null,
            "grid_column": null,
            "overflow_y": null,
            "overflow_x": null,
            "grid_auto_flow": null,
            "grid_area": null,
            "grid_template_columns": null,
            "flex": null,
            "_model_name": "LayoutModel",
            "justify_items": null,
            "grid_row": null,
            "max_height": null,
            "align_content": null,
            "visibility": null,
            "align_self": null,
            "height": null,
            "min_height": null,
            "padding": null,
            "grid_auto_rows": null,
            "grid_gap": null,
            "max_width": null,
            "order": null,
            "_view_module_version": "1.2.0",
            "grid_template_areas": null,
            "object_position": null,
            "object_fit": null,
            "grid_auto_columns": null,
            "margin": null,
            "display": null,
            "left": null
          }
        },
        "d3659bd05d614ccd97c1182880be3a78": {
          "model_module": "@jupyter-widgets/controls",
          "model_name": "HBoxModel",
          "model_module_version": "1.5.0",
          "state": {
            "_view_name": "HBoxView",
            "_dom_classes": [],
            "_model_name": "HBoxModel",
            "_view_module": "@jupyter-widgets/controls",
            "_model_module_version": "1.5.0",
            "_view_count": null,
            "_view_module_version": "1.5.0",
            "box_style": "",
            "layout": "IPY_MODEL_213173c5903742c08f5ea2619f44862e",
            "_model_module": "@jupyter-widgets/controls",
            "children": [
              "IPY_MODEL_ad6ebae8c2d5428b93af937d8f6285d0",
              "IPY_MODEL_738d6bdd16b54f339be9242d22d5a52e"
            ]
          }
        },
        "213173c5903742c08f5ea2619f44862e": {
          "model_module": "@jupyter-widgets/base",
          "model_name": "LayoutModel",
          "model_module_version": "1.2.0",
          "state": {
            "_view_name": "LayoutView",
            "grid_template_rows": null,
            "right": null,
            "justify_content": null,
            "_view_module": "@jupyter-widgets/base",
            "overflow": null,
            "_model_module_version": "1.2.0",
            "_view_count": null,
            "flex_flow": null,
            "width": null,
            "min_width": null,
            "border": null,
            "align_items": null,
            "bottom": null,
            "_model_module": "@jupyter-widgets/base",
            "top": null,
            "grid_column": null,
            "overflow_y": null,
            "overflow_x": null,
            "grid_auto_flow": null,
            "grid_area": null,
            "grid_template_columns": null,
            "flex": null,
            "_model_name": "LayoutModel",
            "justify_items": null,
            "grid_row": null,
            "max_height": null,
            "align_content": null,
            "visibility": null,
            "align_self": null,
            "height": null,
            "min_height": null,
            "padding": null,
            "grid_auto_rows": null,
            "grid_gap": null,
            "max_width": null,
            "order": null,
            "_view_module_version": "1.2.0",
            "grid_template_areas": null,
            "object_position": null,
            "object_fit": null,
            "grid_auto_columns": null,
            "margin": null,
            "display": null,
            "left": null
          }
        },
        "ad6ebae8c2d5428b93af937d8f6285d0": {
          "model_module": "@jupyter-widgets/controls",
          "model_name": "FloatProgressModel",
          "model_module_version": "1.5.0",
          "state": {
            "_view_name": "ProgressView",
            "style": "IPY_MODEL_40590d7295614f408c9f3aa9f29016d4",
            "_dom_classes": [],
            "description": "100%",
            "_model_name": "FloatProgressModel",
            "bar_style": "success",
            "max": 6000,
            "_view_module": "@jupyter-widgets/controls",
            "_model_module_version": "1.5.0",
            "value": 6000,
            "_view_count": null,
            "_view_module_version": "1.5.0",
            "orientation": "horizontal",
            "min": 0,
            "description_tooltip": null,
            "_model_module": "@jupyter-widgets/controls",
            "layout": "IPY_MODEL_f0dcfe6f6adc463cb7fef8f0588491d9"
          }
        },
        "738d6bdd16b54f339be9242d22d5a52e": {
          "model_module": "@jupyter-widgets/controls",
          "model_name": "HTMLModel",
          "model_module_version": "1.5.0",
          "state": {
            "_view_name": "HTMLView",
            "style": "IPY_MODEL_7151c0f9fc304e72baff174fd7233da9",
            "_dom_classes": [],
            "description": "",
            "_model_name": "HTMLModel",
            "placeholder": "​",
            "_view_module": "@jupyter-widgets/controls",
            "_model_module_version": "1.5.0",
            "value": " 6000/6000 [00:04&lt;00:00, 1310.77it/s]",
            "_view_count": null,
            "_view_module_version": "1.5.0",
            "description_tooltip": null,
            "_model_module": "@jupyter-widgets/controls",
            "layout": "IPY_MODEL_b9b5e06439244749a3b828f8b9277718"
          }
        },
        "40590d7295614f408c9f3aa9f29016d4": {
          "model_module": "@jupyter-widgets/controls",
          "model_name": "ProgressStyleModel",
          "model_module_version": "1.5.0",
          "state": {
            "_view_name": "StyleView",
            "_model_name": "ProgressStyleModel",
            "description_width": "initial",
            "_view_module": "@jupyter-widgets/base",
            "_model_module_version": "1.5.0",
            "_view_count": null,
            "_view_module_version": "1.2.0",
            "bar_color": null,
            "_model_module": "@jupyter-widgets/controls"
          }
        },
        "f0dcfe6f6adc463cb7fef8f0588491d9": {
          "model_module": "@jupyter-widgets/base",
          "model_name": "LayoutModel",
          "model_module_version": "1.2.0",
          "state": {
            "_view_name": "LayoutView",
            "grid_template_rows": null,
            "right": null,
            "justify_content": null,
            "_view_module": "@jupyter-widgets/base",
            "overflow": null,
            "_model_module_version": "1.2.0",
            "_view_count": null,
            "flex_flow": null,
            "width": null,
            "min_width": null,
            "border": null,
            "align_items": null,
            "bottom": null,
            "_model_module": "@jupyter-widgets/base",
            "top": null,
            "grid_column": null,
            "overflow_y": null,
            "overflow_x": null,
            "grid_auto_flow": null,
            "grid_area": null,
            "grid_template_columns": null,
            "flex": null,
            "_model_name": "LayoutModel",
            "justify_items": null,
            "grid_row": null,
            "max_height": null,
            "align_content": null,
            "visibility": null,
            "align_self": null,
            "height": null,
            "min_height": null,
            "padding": null,
            "grid_auto_rows": null,
            "grid_gap": null,
            "max_width": null,
            "order": null,
            "_view_module_version": "1.2.0",
            "grid_template_areas": null,
            "object_position": null,
            "object_fit": null,
            "grid_auto_columns": null,
            "margin": null,
            "display": null,
            "left": null
          }
        },
        "7151c0f9fc304e72baff174fd7233da9": {
          "model_module": "@jupyter-widgets/controls",
          "model_name": "DescriptionStyleModel",
          "model_module_version": "1.5.0",
          "state": {
            "_view_name": "StyleView",
            "_model_name": "DescriptionStyleModel",
            "description_width": "",
            "_view_module": "@jupyter-widgets/base",
            "_model_module_version": "1.5.0",
            "_view_count": null,
            "_view_module_version": "1.2.0",
            "_model_module": "@jupyter-widgets/controls"
          }
        },
        "b9b5e06439244749a3b828f8b9277718": {
          "model_module": "@jupyter-widgets/base",
          "model_name": "LayoutModel",
          "model_module_version": "1.2.0",
          "state": {
            "_view_name": "LayoutView",
            "grid_template_rows": null,
            "right": null,
            "justify_content": null,
            "_view_module": "@jupyter-widgets/base",
            "overflow": null,
            "_model_module_version": "1.2.0",
            "_view_count": null,
            "flex_flow": null,
            "width": null,
            "min_width": null,
            "border": null,
            "align_items": null,
            "bottom": null,
            "_model_module": "@jupyter-widgets/base",
            "top": null,
            "grid_column": null,
            "overflow_y": null,
            "overflow_x": null,
            "grid_auto_flow": null,
            "grid_area": null,
            "grid_template_columns": null,
            "flex": null,
            "_model_name": "LayoutModel",
            "justify_items": null,
            "grid_row": null,
            "max_height": null,
            "align_content": null,
            "visibility": null,
            "align_self": null,
            "height": null,
            "min_height": null,
            "padding": null,
            "grid_auto_rows": null,
            "grid_gap": null,
            "max_width": null,
            "order": null,
            "_view_module_version": "1.2.0",
            "grid_template_areas": null,
            "object_position": null,
            "object_fit": null,
            "grid_auto_columns": null,
            "margin": null,
            "display": null,
            "left": null
          }
        },
        "7d58344dc9d94178b0fd66dde21780d0": {
          "model_module": "@jupyter-widgets/controls",
          "model_name": "HBoxModel",
          "model_module_version": "1.5.0",
          "state": {
            "_view_name": "HBoxView",
            "_dom_classes": [],
            "_model_name": "HBoxModel",
            "_view_module": "@jupyter-widgets/controls",
            "_model_module_version": "1.5.0",
            "_view_count": null,
            "_view_module_version": "1.5.0",
            "box_style": "",
            "layout": "IPY_MODEL_925147267b794970bcee9692c771aa0f",
            "_model_module": "@jupyter-widgets/controls",
            "children": [
              "IPY_MODEL_8d66c95fdca944d9a07ad4e5798930cb",
              "IPY_MODEL_d46094ba877d4cd1a8ffc585121602d2"
            ]
          }
        },
        "925147267b794970bcee9692c771aa0f": {
          "model_module": "@jupyter-widgets/base",
          "model_name": "LayoutModel",
          "model_module_version": "1.2.0",
          "state": {
            "_view_name": "LayoutView",
            "grid_template_rows": null,
            "right": null,
            "justify_content": null,
            "_view_module": "@jupyter-widgets/base",
            "overflow": null,
            "_model_module_version": "1.2.0",
            "_view_count": null,
            "flex_flow": null,
            "width": null,
            "min_width": null,
            "border": null,
            "align_items": null,
            "bottom": null,
            "_model_module": "@jupyter-widgets/base",
            "top": null,
            "grid_column": null,
            "overflow_y": null,
            "overflow_x": null,
            "grid_auto_flow": null,
            "grid_area": null,
            "grid_template_columns": null,
            "flex": null,
            "_model_name": "LayoutModel",
            "justify_items": null,
            "grid_row": null,
            "max_height": null,
            "align_content": null,
            "visibility": null,
            "align_self": null,
            "height": null,
            "min_height": null,
            "padding": null,
            "grid_auto_rows": null,
            "grid_gap": null,
            "max_width": null,
            "order": null,
            "_view_module_version": "1.2.0",
            "grid_template_areas": null,
            "object_position": null,
            "object_fit": null,
            "grid_auto_columns": null,
            "margin": null,
            "display": null,
            "left": null
          }
        },
        "8d66c95fdca944d9a07ad4e5798930cb": {
          "model_module": "@jupyter-widgets/controls",
          "model_name": "FloatProgressModel",
          "model_module_version": "1.5.0",
          "state": {
            "_view_name": "ProgressView",
            "style": "IPY_MODEL_287f969885f747df842b36de810b899f",
            "_dom_classes": [],
            "description": " 50%",
            "_model_name": "FloatProgressModel",
            "bar_style": "danger",
            "max": 10,
            "_view_module": "@jupyter-widgets/controls",
            "_model_module_version": "1.5.0",
            "value": 5,
            "_view_count": null,
            "_view_module_version": "1.5.0",
            "orientation": "horizontal",
            "min": 0,
            "description_tooltip": null,
            "_model_module": "@jupyter-widgets/controls",
            "layout": "IPY_MODEL_cfcceebf33ae4625844f99681d121a10"
          }
        },
        "d46094ba877d4cd1a8ffc585121602d2": {
          "model_module": "@jupyter-widgets/controls",
          "model_name": "HTMLModel",
          "model_module_version": "1.5.0",
          "state": {
            "_view_name": "HTMLView",
            "style": "IPY_MODEL_c413de4c690a4db88196b0ff6189e07b",
            "_dom_classes": [],
            "description": "",
            "_model_name": "HTMLModel",
            "placeholder": "​",
            "_view_module": "@jupyter-widgets/controls",
            "_model_module_version": "1.5.0",
            "value": " 5/10 [00:33&lt;00:27,  5.54s/it]",
            "_view_count": null,
            "_view_module_version": "1.5.0",
            "description_tooltip": null,
            "_model_module": "@jupyter-widgets/controls",
            "layout": "IPY_MODEL_9b0b06320f774e62befa21700b0879cb"
          }
        },
        "287f969885f747df842b36de810b899f": {
          "model_module": "@jupyter-widgets/controls",
          "model_name": "ProgressStyleModel",
          "model_module_version": "1.5.0",
          "state": {
            "_view_name": "StyleView",
            "_model_name": "ProgressStyleModel",
            "description_width": "initial",
            "_view_module": "@jupyter-widgets/base",
            "_model_module_version": "1.5.0",
            "_view_count": null,
            "_view_module_version": "1.2.0",
            "bar_color": null,
            "_model_module": "@jupyter-widgets/controls"
          }
        },
        "cfcceebf33ae4625844f99681d121a10": {
          "model_module": "@jupyter-widgets/base",
          "model_name": "LayoutModel",
          "model_module_version": "1.2.0",
          "state": {
            "_view_name": "LayoutView",
            "grid_template_rows": null,
            "right": null,
            "justify_content": null,
            "_view_module": "@jupyter-widgets/base",
            "overflow": null,
            "_model_module_version": "1.2.0",
            "_view_count": null,
            "flex_flow": null,
            "width": null,
            "min_width": null,
            "border": null,
            "align_items": null,
            "bottom": null,
            "_model_module": "@jupyter-widgets/base",
            "top": null,
            "grid_column": null,
            "overflow_y": null,
            "overflow_x": null,
            "grid_auto_flow": null,
            "grid_area": null,
            "grid_template_columns": null,
            "flex": null,
            "_model_name": "LayoutModel",
            "justify_items": null,
            "grid_row": null,
            "max_height": null,
            "align_content": null,
            "visibility": null,
            "align_self": null,
            "height": null,
            "min_height": null,
            "padding": null,
            "grid_auto_rows": null,
            "grid_gap": null,
            "max_width": null,
            "order": null,
            "_view_module_version": "1.2.0",
            "grid_template_areas": null,
            "object_position": null,
            "object_fit": null,
            "grid_auto_columns": null,
            "margin": null,
            "display": null,
            "left": null
          }
        },
        "c413de4c690a4db88196b0ff6189e07b": {
          "model_module": "@jupyter-widgets/controls",
          "model_name": "DescriptionStyleModel",
          "model_module_version": "1.5.0",
          "state": {
            "_view_name": "StyleView",
            "_model_name": "DescriptionStyleModel",
            "description_width": "",
            "_view_module": "@jupyter-widgets/base",
            "_model_module_version": "1.5.0",
            "_view_count": null,
            "_view_module_version": "1.2.0",
            "_model_module": "@jupyter-widgets/controls"
          }
        },
        "9b0b06320f774e62befa21700b0879cb": {
          "model_module": "@jupyter-widgets/base",
          "model_name": "LayoutModel",
          "model_module_version": "1.2.0",
          "state": {
            "_view_name": "LayoutView",
            "grid_template_rows": null,
            "right": null,
            "justify_content": null,
            "_view_module": "@jupyter-widgets/base",
            "overflow": null,
            "_model_module_version": "1.2.0",
            "_view_count": null,
            "flex_flow": null,
            "width": null,
            "min_width": null,
            "border": null,
            "align_items": null,
            "bottom": null,
            "_model_module": "@jupyter-widgets/base",
            "top": null,
            "grid_column": null,
            "overflow_y": null,
            "overflow_x": null,
            "grid_auto_flow": null,
            "grid_area": null,
            "grid_template_columns": null,
            "flex": null,
            "_model_name": "LayoutModel",
            "justify_items": null,
            "grid_row": null,
            "max_height": null,
            "align_content": null,
            "visibility": null,
            "align_self": null,
            "height": null,
            "min_height": null,
            "padding": null,
            "grid_auto_rows": null,
            "grid_gap": null,
            "max_width": null,
            "order": null,
            "_view_module_version": "1.2.0",
            "grid_template_areas": null,
            "object_position": null,
            "object_fit": null,
            "grid_auto_columns": null,
            "margin": null,
            "display": null,
            "left": null
          }
        }
      }
    }
  },
  "cells": [
    {
      "cell_type": "code",
      "metadata": {
        "id": "D_R7SxkB4mhd"
      },
      "source": [
        "#%% Step 0 import necessary packages\n",
        "import numpy as np;\n",
        "import pandas as pd;\n",
        "import os;\n",
        "import re;\n",
        "from google.colab import drive;\n",
        "from collections import Counter;\n",
        "from sklearn.metrics import f1_score, recall_score, precision_score, accuracy_score;\n",
        "from sklearn.linear_model import LogisticRegression;\n",
        "from sklearn.svm import SVC;\n",
        "from sklearn.ensemble import RandomForestClassifier;"
      ],
      "execution_count": null,
      "outputs": []
    },
    {
      "cell_type": "code",
      "metadata": {
        "id": "CgCQlhZp8pYH",
        "outputId": "1c417d63-b49d-4635-e968-0016ea54fa57",
        "colab": {
          "base_uri": "https://localhost:8080/"
        }
      },
      "source": [
        "!wget https://docs.google.com/uc?id=1KMJTagaVD9hFHXFTPtNk0u2JjvNlyCAu -O glove_split.aa\n",
        "!wget https://docs.google.com/uc?id=1LF2yD2jToXriyD-lsYA5hj03f7J3ZKaY -O glove_split.ab\n",
        "!wget https://docs.google.com/uc?id=1N1xnxkRyM5Gar7sv4d41alyTL92Iip3f -O glove_split.ac\n",
        "!cat glove_split.?? > 'glove.6B.300d__50k.txt'"
      ],
      "execution_count": null,
      "outputs": [
        {
          "output_type": "stream",
          "name": "stdout",
          "text": [
            "--2021-09-20 11:49:15--  https://docs.google.com/uc?id=1KMJTagaVD9hFHXFTPtNk0u2JjvNlyCAu\n",
            "Resolving docs.google.com (docs.google.com)... 142.250.188.46, 2607:f8b0:4004:811::200e\n",
            "Connecting to docs.google.com (docs.google.com)|142.250.188.46|:443... connected.\n",
            "HTTP request sent, awaiting response... 302 Moved Temporarily\n",
            "Location: https://doc-0k-0g-docs.googleusercontent.com/docs/securesc/ha0ro937gcuc7l7deffksulhg5h7mbp1/ngic77reankkbkqu2urpiiuhe1qic9cr/1632138525000/14514704803973256873/*/1KMJTagaVD9hFHXFTPtNk0u2JjvNlyCAu [following]\n",
            "Warning: wildcards not supported in HTTP.\n",
            "--2021-09-20 11:49:20--  https://doc-0k-0g-docs.googleusercontent.com/docs/securesc/ha0ro937gcuc7l7deffksulhg5h7mbp1/ngic77reankkbkqu2urpiiuhe1qic9cr/1632138525000/14514704803973256873/*/1KMJTagaVD9hFHXFTPtNk0u2JjvNlyCAu\n",
            "Resolving doc-0k-0g-docs.googleusercontent.com (doc-0k-0g-docs.googleusercontent.com)... 172.217.1.193, 2607:f8b0:4004:801::2001\n",
            "Connecting to doc-0k-0g-docs.googleusercontent.com (doc-0k-0g-docs.googleusercontent.com)|172.217.1.193|:443... connected.\n",
            "HTTP request sent, awaiting response... 200 OK\n",
            "Length: unspecified [audio/audible]\n",
            "Saving to: ‘glove_split.aa’\n",
            "\n",
            "glove_split.aa          [    <=>             ]  50.00M  75.1MB/s    in 0.7s    \n",
            "\n",
            "2021-09-20 11:49:21 (75.1 MB/s) - ‘glove_split.aa’ saved [52428800]\n",
            "\n",
            "--2021-09-20 11:49:21--  https://docs.google.com/uc?id=1LF2yD2jToXriyD-lsYA5hj03f7J3ZKaY\n",
            "Resolving docs.google.com (docs.google.com)... 142.250.188.46, 2607:f8b0:4004:811::200e\n",
            "Connecting to docs.google.com (docs.google.com)|142.250.188.46|:443... connected.\n",
            "HTTP request sent, awaiting response... 302 Moved Temporarily\n",
            "Location: https://doc-08-0g-docs.googleusercontent.com/docs/securesc/ha0ro937gcuc7l7deffksulhg5h7mbp1/5b0o0g3pbp91s1oogn1tm9ddtal1c1gp/1632138525000/14514704803973256873/*/1LF2yD2jToXriyD-lsYA5hj03f7J3ZKaY [following]\n",
            "Warning: wildcards not supported in HTTP.\n",
            "--2021-09-20 11:49:25--  https://doc-08-0g-docs.googleusercontent.com/docs/securesc/ha0ro937gcuc7l7deffksulhg5h7mbp1/5b0o0g3pbp91s1oogn1tm9ddtal1c1gp/1632138525000/14514704803973256873/*/1LF2yD2jToXriyD-lsYA5hj03f7J3ZKaY\n",
            "Resolving doc-08-0g-docs.googleusercontent.com (doc-08-0g-docs.googleusercontent.com)... 172.217.1.193, 2607:f8b0:4004:801::2001\n",
            "Connecting to doc-08-0g-docs.googleusercontent.com (doc-08-0g-docs.googleusercontent.com)|172.217.1.193|:443... connected.\n",
            "HTTP request sent, awaiting response... 200 OK\n",
            "Length: unspecified [application/octet-stream]\n",
            "Saving to: ‘glove_split.ab’\n",
            "\n",
            "glove_split.ab          [  <=>               ]  50.00M   153MB/s    in 0.3s    \n",
            "\n",
            "2021-09-20 11:49:26 (153 MB/s) - ‘glove_split.ab’ saved [52428800]\n",
            "\n",
            "--2021-09-20 11:49:26--  https://docs.google.com/uc?id=1N1xnxkRyM5Gar7sv4d41alyTL92Iip3f\n",
            "Resolving docs.google.com (docs.google.com)... 142.250.188.46, 2607:f8b0:4004:835::200e\n",
            "Connecting to docs.google.com (docs.google.com)|142.250.188.46|:443... connected.\n",
            "HTTP request sent, awaiting response... 302 Moved Temporarily\n",
            "Location: https://doc-04-0g-docs.googleusercontent.com/docs/securesc/ha0ro937gcuc7l7deffksulhg5h7mbp1/2lc26i8vv99lmill1lvbm6adkvjng91e/1632138525000/14514704803973256873/*/1N1xnxkRyM5Gar7sv4d41alyTL92Iip3f [following]\n",
            "Warning: wildcards not supported in HTTP.\n",
            "--2021-09-20 11:49:29--  https://doc-04-0g-docs.googleusercontent.com/docs/securesc/ha0ro937gcuc7l7deffksulhg5h7mbp1/2lc26i8vv99lmill1lvbm6adkvjng91e/1632138525000/14514704803973256873/*/1N1xnxkRyM5Gar7sv4d41alyTL92Iip3f\n",
            "Resolving doc-04-0g-docs.googleusercontent.com (doc-04-0g-docs.googleusercontent.com)... 172.217.1.193, 2607:f8b0:4004:801::2001\n",
            "Connecting to doc-04-0g-docs.googleusercontent.com (doc-04-0g-docs.googleusercontent.com)|172.217.1.193|:443... connected.\n",
            "HTTP request sent, awaiting response... 200 OK\n",
            "Length: unspecified [application/octet-stream]\n",
            "Saving to: ‘glove_split.ac’\n",
            "\n",
            "glove_split.ac          [ <=>                ]  23.49M   123MB/s    in 0.2s    \n",
            "\n",
            "2021-09-20 11:49:29 (123 MB/s) - ‘glove_split.ac’ saved [24629432]\n",
            "\n"
          ]
        }
      ]
    },
    {
      "cell_type": "code",
      "metadata": {
        "id": "J6m4GLm1FrQ-"
      },
      "source": [
        "!wget 'http://www.aueb.gr/users/ion/data/enron-spam/preprocessed/enron1.tar.gz'\n",
        "!wget 'http://www.aueb.gr/users/ion/data/enron-spam/preprocessed/enron2.tar.gz'\n",
        "!wget 'http://www.aueb.gr/users/ion/data/enron-spam/preprocessed/enron3.tar.gz'\n",
        "!wget 'http://www.aueb.gr/users/ion/data/enron-spam/preprocessed/enron4.tar.gz'\n",
        "!wget 'http://www.aueb.gr/users/ion/data/enron-spam/preprocessed/enron5.tar.gz'\n",
        "!wget 'http://www.aueb.gr/users/ion/data/enron-spam/preprocessed/enron6.tar.gz'"
      ],
      "execution_count": null,
      "outputs": []
    },
    {
      "cell_type": "code",
      "metadata": {
        "id": "-yoxegDSg4X-"
      },
      "source": [
        "!tar -xzf enron1.tar.gz\n",
        "!tar -xzf enron2.tar.gz\n",
        "!tar -xzf enron3.tar.gz\n",
        "!tar -xzf enron4.tar.gz\n",
        "!tar -xzf enron5.tar.gz\n",
        "!tar -xzf enron6.tar.gz"
      ],
      "execution_count": null,
      "outputs": []
    },
    {
      "cell_type": "code",
      "metadata": {
        "colab": {
          "base_uri": "https://localhost:8080/"
        },
        "id": "vYk7xjPdIhsY",
        "outputId": "ae466f89-1b8b-4843-e4c8-35349f998942"
      },
      "source": [
        "!pwd"
      ],
      "execution_count": null,
      "outputs": [
        {
          "output_type": "stream",
          "text": [
            "/content\n"
          ],
          "name": "stdout"
        }
      ]
    },
    {
      "cell_type": "code",
      "metadata": {
        "colab": {
          "base_uri": "https://localhost:8080/"
        },
        "id": "xVMXVxzyh8Kn",
        "outputId": "fca211df-355a-4afb-fbdc-60a95c6620e8"
      },
      "source": [
        "!ls"
      ],
      "execution_count": null,
      "outputs": [
        {
          "output_type": "stream",
          "text": [
            "enron1\t       enron3.tar.gz  enron6\t\t      glove_split.ac\n",
            "enron1.tar.gz  enron4\t      enron6.tar.gz\t      sample_data\n",
            "enron2\t       enron4.tar.gz  glove.6B.300d__50k.txt\n",
            "enron2.tar.gz  enron5\t      glove_split.aa\n",
            "enron3\t       enron5.tar.gz  glove_split.ab\n"
          ],
          "name": "stdout"
        }
      ]
    },
    {
      "cell_type": "code",
      "metadata": {
        "id": "vqjVhxh14v1g"
      },
      "source": [
        "a#%% 0. import packages\n",
        "import numpy as np\n",
        "import pandas as pd\n",
        "import os\n",
        "\n",
        "import matplotlib.pyplot as plt\n",
        "from gensim.models import KeyedVectors\n",
        "from gensim.scripts.glove2word2vec import glove2word2vec\n",
        "import time\n",
        "from sklearn.preprocessing import LabelEncoder\n",
        "from sklearn.model_selection import train_test_split\n",
        "\n",
        "from keras.preprocessing.text import Tokenizer\n",
        "from keras.preprocessing.sequence import pad_sequences\n",
        "from keras.models import Sequential\n",
        "\n",
        "from keras.layers import Dense, LSTM, Flatten, Embedding\n",
        "from keras.utils import to_categorical\n",
        "from keras.backend import clear_session\n",
        "\n",
        "from collections import Counter\n",
        "import tensorflow as tf\n",
        "from sklearn.metrics import f1_score, recall_score, precision_score, accuracy_score\n",
        "from string import punctuation"
      ],
      "execution_count": null,
      "outputs": []
    },
    {
      "cell_type": "code",
      "metadata": {
        "colab": {
          "base_uri": "https://localhost:8080/",
          "height": 35
        },
        "id": "BGvdBOUfpkPI",
        "outputId": "bdf2b306-7cfe-4520-8e41-e1d84bac590f"
      },
      "source": [
        "os.getcwd()"
      ],
      "execution_count": null,
      "outputs": [
        {
          "output_type": "execute_result",
          "data": {
            "application/vnd.google.colaboratory.intrinsic+json": {
              "type": "string"
            },
            "text/plain": [
              "'/content'"
            ]
          },
          "metadata": {
            "tags": []
          },
          "execution_count": 8
        }
      ]
    },
    {
      "cell_type": "code",
      "metadata": {
        "id": "3Hns4X0YLGEK"
      },
      "source": [
        "#%% 1. load and preprocess data\n",
        "\n",
        "def pre_process(directory):\n",
        "    dirs = ['spam','ham'];\n",
        "    emails = [];\n",
        "    for i in range(2):\n",
        "      direc = directory + dirs[i] + '/'\n",
        "      files = os.listdir(direc)\n",
        "      #print('current location:' + os.getcwd());\n",
        "      #emails = [direc + email for email in files]\n",
        "      emails.extend([direc + email for email in files])\n",
        "    #print(emails);\n",
        "\n",
        "    # store all the words in all the emails\n",
        "    words = []\n",
        "    # store cleaned up emails\n",
        "    temp_email_text = []\n",
        "    # store labels (1=spam/ 0= ham)\n",
        "    labels = []\n",
        "    hamcounter = 0\n",
        "    spamcounter = 0\n",
        "\n",
        "    for email in emails:\n",
        "        if \"ham\" in email:\n",
        "            labels.append(0)\n",
        "            hamcounter += 1\n",
        "        else:\n",
        "            labels.append(1)\n",
        "            spamcounter += 1\n",
        "        f = open(email, encoding=\"utf8\", errors='ignore')\n",
        "        blob = f.read()\n",
        "        # removing punctuation\n",
        "        all_text = ''.join([text for text in blob if text not in punctuation])\n",
        "        all_text = all_text.split('\\n')\n",
        "        all_text = ''.join(all_text)\n",
        "        temp_text = all_text.split(\" \")\n",
        "\n",
        "        for word in temp_text:\n",
        "            if word.isalpha():\n",
        "                temp_text[temp_text.index(word)] = word.lower()\n",
        "\n",
        "        temp_text = list(filter(None, temp_text))\n",
        "        temp_text = ' '.join([i for i in temp_text if not i.isdigit()])\n",
        "        words += temp_text.split(\" \")\n",
        "        temp_email_text.append(temp_text)\n",
        "\n",
        "    # making a dictionary of all the words\n",
        "    dictionary = Counter(words)\n",
        "    del dictionary[\"\"]\n",
        "    sorted_split_words = sorted(dictionary, key=dictionary.get, reverse=True)\n",
        "    vocab_to_int = {c: i for i, c in enumerate(sorted_split_words, 1)}\n",
        "\n",
        "    message_ints = []\n",
        "    for message in temp_email_text:\n",
        "        temp_message = message.split(\" \")\n",
        "        message_ints.append([vocab_to_int[i] for i in temp_message])\n",
        "\n",
        "    seq_length = 3425\n",
        "    num_messages = len(temp_email_text)\n",
        "    features = np.zeros([num_messages, seq_length], dtype=int)\n",
        "    for i, row in enumerate(message_ints):\n",
        "        features[i, -len(row):] = np.array(row)[:seq_length]\n",
        "\n",
        "    #print(hamcounter)\n",
        "    #print(spamcounter)\n",
        "    return features, np.array(labels), sorted_split_words, temp_email_text\n",
        "\n",
        "#features1, labels1, sorted_split_words1, email_text1 = pre_process(\"/enron1/\")\n",
        "features1, labels1, sorted_split_words1, email_text1 = pre_process(\"enron1/\")\n",
        "features2, labels2, sorted_split_words2, email_text2 = pre_process(\"enron2/\")\n",
        "features3, labels3, sorted_split_words3, email_text3 = pre_process(\"enron3/\")\n",
        "features4, labels4, sorted_split_words4, email_text4 = pre_process(\"enron4/\")\n",
        "features5, labels5, sorted_split_words5, email_text5 = pre_process(\"enron5/\")\n",
        "features6, labels6, sorted_split_words6, email_text6 = pre_process(\"enron6/\")\n"
      ],
      "execution_count": null,
      "outputs": []
    },
    {
      "cell_type": "code",
      "metadata": {
        "id": "KI6jYGneI679"
      },
      "source": [
        "#this part seems unnecesssary at all. Pls just ignore it though it's still here.\n",
        "#%% 1. load and preprocess data\n",
        "\n",
        "#len_emails = 33716;\n",
        "#df = pd.DataFrame(index=[i for i in range(len_emails)],columns=['label','text']);\n",
        "#df = df.fillna(0);\n",
        "\n",
        "#files = [[labels1,email_text1],[labels2,email_text2],[labels3,email_text3],[labels4,email_text4],[labels5,email_text5],[labels6,email_text6]];\n",
        "#length = 0;\n",
        "#for file in files:\n",
        "  #df['label'][length:length+len(file[0])] = file[0];\n",
        "  #df['text'][length:length+len(file[1])] = file[1];\n",
        "  #length += len(file[0]);\n",
        "#df"
      ],
      "execution_count": null,
      "outputs": []
    },
    {
      "cell_type": "code",
      "metadata": {
        "colab": {
          "base_uri": "https://localhost:8080/"
        },
        "id": "k3MDA_oKRbH0",
        "outputId": "772a238d-9184-4401-c3cd-5c22f03feb71"
      },
      "source": [
        "#%% 2. split training (1-4), testing (5), validation dataset (6)\n",
        "\n",
        "import itertools\n",
        "\n",
        "train_email = list(itertools.chain(email_text1, email_text2, email_text3, email_text4))\n",
        "#train_labels = np.array(list(itertools.chain(labels1, labels2, labels3, labels4)))\n",
        "train_labels = list(itertools.chain(labels1, labels2, labels3, labels4))\n",
        "print(len(train_email))"
      ],
      "execution_count": null,
      "outputs": [
        {
          "output_type": "stream",
          "text": [
            "22541\n"
          ],
          "name": "stdout"
        }
      ]
    },
    {
      "cell_type": "code",
      "metadata": {
        "colab": {
          "base_uri": "https://localhost:8080/"
        },
        "id": "K6JtMFOwZWjH",
        "outputId": "db5f3e17-b3b5-434b-bd37-71ce88ce6167"
      },
      "source": [
        "\n",
        "### DON'T RUN THIS PART. INSTEAD, USE THE ONE BELOW (will explain later)\n",
        "\n",
        "#%% 3. load the whole embedding into memory\n",
        "embeddings_index = dict()\n",
        "f = open('glove.6B.300d__50k.txt',encoding='utf-8')\n",
        "for line in f:\n",
        "\tvalues = line.split()\n",
        "\tword = values[0]\n",
        "\tcoefs = np.asarray(values[1:], dtype='float32')\n",
        "\tembeddings_index[word] = coefs\n",
        "f.close()\n",
        "print('Loaded %s word vectors.' % len(embeddings_index))\n"
      ],
      "execution_count": null,
      "outputs": [
        {
          "output_type": "stream",
          "text": [
            "Loaded 50000 word vectors.\n"
          ],
          "name": "stdout"
        }
      ]
    },
    {
      "cell_type": "code",
      "metadata": {
        "colab": {
          "base_uri": "https://localhost:8080/"
        },
        "id": "mN1AARMFmONN",
        "outputId": "99aad0ee-705b-4973-92f8-7b730f1c6cc6"
      },
      "source": [
        "embeddings_index.get('subject').shape"
      ],
      "execution_count": null,
      "outputs": [
        {
          "output_type": "execute_result",
          "data": {
            "text/plain": [
              "(300,)"
            ]
          },
          "metadata": {
            "tags": []
          },
          "execution_count": 13
        }
      ]
    },
    {
      "cell_type": "code",
      "metadata": {
        "colab": {
          "base_uri": "https://localhost:8080/"
        },
        "id": "ILlmVCKIAdAw",
        "outputId": "3657459c-e12b-4bb1-fb9f-313e75471d16"
      },
      "source": [
        "type(np.array(embeddings_index.get('subject')))"
      ],
      "execution_count": null,
      "outputs": [
        {
          "output_type": "execute_result",
          "data": {
            "text/plain": [
              "numpy.ndarray"
            ]
          },
          "metadata": {
            "tags": []
          },
          "execution_count": 14
        }
      ]
    },
    {
      "cell_type": "code",
      "metadata": {
        "colab": {
          "base_uri": "https://localhost:8080/"
        },
        "id": "dAbqWZZ-Rk95",
        "outputId": "a615e11b-ceff-48a3-c4d9-dbdf0589e188"
      },
      "source": [
        "#%% 3. load the whole embedding into memory\n",
        "\n",
        "def load_glove(glove_path, embedding_dim):\n",
        "    with open(glove_path) as f:\n",
        "        token_ls = [PAD_TOKEN, UNK_TOKEN]\n",
        "        embedding_ls = [np.zeros(embedding_dim), np.random.rand(embedding_dim)]\n",
        "        for line in f:\n",
        "            token, raw_embedding = line.split(maxsplit=1)\n",
        "            token_ls.append(token)\n",
        "            embedding = np.array([float(x) for x in raw_embedding.split()])\n",
        "            embedding_ls.append(embedding)\n",
        "        embeddings = np.array(embedding_ls)\n",
        "    return token_ls, embeddings\n",
        "\n",
        "PAD_TOKEN = '<PAD>'\n",
        "UNK_TOKEN = '<UNK>'\n",
        "EMBEDDING_DIM=300 # dimension of Glove embeddings\n",
        "glove_path = \"glove.6B.300d__50k.txt\"\n",
        "vocab, embeddings = load_glove(glove_path, EMBEDDING_DIM)\n",
        "print('Pretrain model generated!');"
      ],
      "execution_count": null,
      "outputs": [
        {
          "output_type": "stream",
          "text": [
            "Pretrain model generated!\n"
          ],
          "name": "stdout"
        }
      ]
    },
    {
      "cell_type": "code",
      "metadata": {
        "colab": {
          "base_uri": "https://localhost:8080/"
        },
        "id": "uUdvtpVDUbYj",
        "outputId": "42a5b96b-c6cb-4e9d-e479-0b86f84f6bd7"
      },
      "source": [
        "#%% import packages for nn part\n",
        "!pip install sacremoses\n",
        "\n",
        "import torch\n",
        "import torch.nn as nn\n",
        "import torch.nn.functional as F\n",
        "import torch.optim as optim\n",
        "import numpy as np\n",
        "import os\n",
        "import pandas as pd\n",
        "import sacremoses\n",
        "from torch.utils.data import dataloader, Dataset\n",
        "from tqdm.auto import tqdm"
      ],
      "execution_count": null,
      "outputs": [
        {
          "output_type": "stream",
          "text": [
            "Collecting sacremoses\n",
            "\u001b[?25l  Downloading https://files.pythonhosted.org/packages/75/ee/67241dc87f266093c533a2d4d3d69438e57d7a90abb216fa076e7d475d4a/sacremoses-0.0.45-py3-none-any.whl (895kB)\n",
            "\r\u001b[K     |▍                               | 10kB 19.7MB/s eta 0:00:01\r\u001b[K     |▊                               | 20kB 27.5MB/s eta 0:00:01\r\u001b[K     |█                               | 30kB 33.1MB/s eta 0:00:01\r\u001b[K     |█▌                              | 40kB 30.2MB/s eta 0:00:01\r\u001b[K     |█▉                              | 51kB 31.7MB/s eta 0:00:01\r\u001b[K     |██▏                             | 61kB 32.5MB/s eta 0:00:01\r\u001b[K     |██▋                             | 71kB 26.2MB/s eta 0:00:01\r\u001b[K     |███                             | 81kB 26.8MB/s eta 0:00:01\r\u001b[K     |███▎                            | 92kB 26.8MB/s eta 0:00:01\r\u001b[K     |███▋                            | 102kB 28.4MB/s eta 0:00:01\r\u001b[K     |████                            | 112kB 28.4MB/s eta 0:00:01\r\u001b[K     |████▍                           | 122kB 28.4MB/s eta 0:00:01\r\u001b[K     |████▊                           | 133kB 28.4MB/s eta 0:00:01\r\u001b[K     |█████▏                          | 143kB 28.4MB/s eta 0:00:01\r\u001b[K     |█████▌                          | 153kB 28.4MB/s eta 0:00:01\r\u001b[K     |█████▉                          | 163kB 28.4MB/s eta 0:00:01\r\u001b[K     |██████▎                         | 174kB 28.4MB/s eta 0:00:01\r\u001b[K     |██████▋                         | 184kB 28.4MB/s eta 0:00:01\r\u001b[K     |███████                         | 194kB 28.4MB/s eta 0:00:01\r\u001b[K     |███████▎                        | 204kB 28.4MB/s eta 0:00:01\r\u001b[K     |███████▊                        | 215kB 28.4MB/s eta 0:00:01\r\u001b[K     |████████                        | 225kB 28.4MB/s eta 0:00:01\r\u001b[K     |████████▍                       | 235kB 28.4MB/s eta 0:00:01\r\u001b[K     |████████▉                       | 245kB 28.4MB/s eta 0:00:01\r\u001b[K     |█████████▏                      | 256kB 28.4MB/s eta 0:00:01\r\u001b[K     |█████████▌                      | 266kB 28.4MB/s eta 0:00:01\r\u001b[K     |█████████▉                      | 276kB 28.4MB/s eta 0:00:01\r\u001b[K     |██████████▎                     | 286kB 28.4MB/s eta 0:00:01\r\u001b[K     |██████████▋                     | 296kB 28.4MB/s eta 0:00:01\r\u001b[K     |███████████                     | 307kB 28.4MB/s eta 0:00:01\r\u001b[K     |███████████▍                    | 317kB 28.4MB/s eta 0:00:01\r\u001b[K     |███████████▊                    | 327kB 28.4MB/s eta 0:00:01\r\u001b[K     |████████████                    | 337kB 28.4MB/s eta 0:00:01\r\u001b[K     |████████████▌                   | 348kB 28.4MB/s eta 0:00:01\r\u001b[K     |████████████▉                   | 358kB 28.4MB/s eta 0:00:01\r\u001b[K     |█████████████▏                  | 368kB 28.4MB/s eta 0:00:01\r\u001b[K     |█████████████▌                  | 378kB 28.4MB/s eta 0:00:01\r\u001b[K     |██████████████                  | 389kB 28.4MB/s eta 0:00:01\r\u001b[K     |██████████████▎                 | 399kB 28.4MB/s eta 0:00:01\r\u001b[K     |██████████████▋                 | 409kB 28.4MB/s eta 0:00:01\r\u001b[K     |███████████████                 | 419kB 28.4MB/s eta 0:00:01\r\u001b[K     |███████████████▍                | 430kB 28.4MB/s eta 0:00:01\r\u001b[K     |███████████████▊                | 440kB 28.4MB/s eta 0:00:01\r\u001b[K     |████████████████                | 450kB 28.4MB/s eta 0:00:01\r\u001b[K     |████████████████▌               | 460kB 28.4MB/s eta 0:00:01\r\u001b[K     |████████████████▉               | 471kB 28.4MB/s eta 0:00:01\r\u001b[K     |█████████████████▏              | 481kB 28.4MB/s eta 0:00:01\r\u001b[K     |█████████████████▋              | 491kB 28.4MB/s eta 0:00:01\r\u001b[K     |██████████████████              | 501kB 28.4MB/s eta 0:00:01\r\u001b[K     |██████████████████▎             | 512kB 28.4MB/s eta 0:00:01\r\u001b[K     |██████████████████▊             | 522kB 28.4MB/s eta 0:00:01\r\u001b[K     |███████████████████             | 532kB 28.4MB/s eta 0:00:01\r\u001b[K     |███████████████████▍            | 542kB 28.4MB/s eta 0:00:01\r\u001b[K     |███████████████████▊            | 552kB 28.4MB/s eta 0:00:01\r\u001b[K     |████████████████████▏           | 563kB 28.4MB/s eta 0:00:01\r\u001b[K     |████████████████████▌           | 573kB 28.4MB/s eta 0:00:01\r\u001b[K     |████████████████████▉           | 583kB 28.4MB/s eta 0:00:01\r\u001b[K     |█████████████████████▎          | 593kB 28.4MB/s eta 0:00:01\r\u001b[K     |█████████████████████▋          | 604kB 28.4MB/s eta 0:00:01\r\u001b[K     |██████████████████████          | 614kB 28.4MB/s eta 0:00:01\r\u001b[K     |██████████████████████▎         | 624kB 28.4MB/s eta 0:00:01\r\u001b[K     |██████████████████████▊         | 634kB 28.4MB/s eta 0:00:01\r\u001b[K     |███████████████████████         | 645kB 28.4MB/s eta 0:00:01\r\u001b[K     |███████████████████████▍        | 655kB 28.4MB/s eta 0:00:01\r\u001b[K     |███████████████████████▉        | 665kB 28.4MB/s eta 0:00:01\r\u001b[K     |████████████████████████▏       | 675kB 28.4MB/s eta 0:00:01\r\u001b[K     |████████████████████████▌       | 686kB 28.4MB/s eta 0:00:01\r\u001b[K     |█████████████████████████       | 696kB 28.4MB/s eta 0:00:01\r\u001b[K     |█████████████████████████▎      | 706kB 28.4MB/s eta 0:00:01\r\u001b[K     |█████████████████████████▋      | 716kB 28.4MB/s eta 0:00:01\r\u001b[K     |██████████████████████████      | 727kB 28.4MB/s eta 0:00:01\r\u001b[K     |██████████████████████████▍     | 737kB 28.4MB/s eta 0:00:01\r\u001b[K     |██████████████████████████▊     | 747kB 28.4MB/s eta 0:00:01\r\u001b[K     |███████████████████████████     | 757kB 28.4MB/s eta 0:00:01\r\u001b[K     |███████████████████████████▌    | 768kB 28.4MB/s eta 0:00:01\r\u001b[K     |███████████████████████████▉    | 778kB 28.4MB/s eta 0:00:01\r\u001b[K     |████████████████████████████▏   | 788kB 28.4MB/s eta 0:00:01\r\u001b[K     |████████████████████████████▌   | 798kB 28.4MB/s eta 0:00:01\r\u001b[K     |█████████████████████████████   | 808kB 28.4MB/s eta 0:00:01\r\u001b[K     |█████████████████████████████▎  | 819kB 28.4MB/s eta 0:00:01\r\u001b[K     |█████████████████████████████▋  | 829kB 28.4MB/s eta 0:00:01\r\u001b[K     |██████████████████████████████  | 839kB 28.4MB/s eta 0:00:01\r\u001b[K     |██████████████████████████████▍ | 849kB 28.4MB/s eta 0:00:01\r\u001b[K     |██████████████████████████████▊ | 860kB 28.4MB/s eta 0:00:01\r\u001b[K     |███████████████████████████████▏| 870kB 28.4MB/s eta 0:00:01\r\u001b[K     |███████████████████████████████▌| 880kB 28.4MB/s eta 0:00:01\r\u001b[K     |███████████████████████████████▉| 890kB 28.4MB/s eta 0:00:01\r\u001b[K     |████████████████████████████████| 901kB 28.4MB/s \n",
            "\u001b[?25hRequirement already satisfied: regex in /usr/local/lib/python3.7/dist-packages (from sacremoses) (2019.12.20)\n",
            "Requirement already satisfied: six in /usr/local/lib/python3.7/dist-packages (from sacremoses) (1.15.0)\n",
            "Requirement already satisfied: joblib in /usr/local/lib/python3.7/dist-packages (from sacremoses) (1.0.1)\n",
            "Requirement already satisfied: tqdm in /usr/local/lib/python3.7/dist-packages (from sacremoses) (4.41.1)\n",
            "Requirement already satisfied: click in /usr/local/lib/python3.7/dist-packages (from sacremoses) (7.1.2)\n",
            "Installing collected packages: sacremoses\n",
            "Successfully installed sacremoses-0.0.45\n"
          ],
          "name": "stdout"
        }
      ]
    },
    {
      "cell_type": "code",
      "metadata": {
        "colab": {
          "base_uri": "https://localhost:8080/",
          "height": 164,
          "referenced_widgets": [
            "ac03ed53d61e452eaeaf0d32189f55a9",
            "dce7a99cc7e647f6b1494415b4c7f485",
            "b00b38d40b814876941d86508027aee0",
            "2829be79535b48dbb8aae63ff251ea19",
            "5092e0aa00d14610beee10abcaa71696",
            "9ad7988f66cb4084a4deefa8c9e459a4",
            "b1be8bbea4b240899161c5dc551582b0",
            "be623041f1d849299cf496c7f9a52c65",
            "f8c41b7b130b4044bada3b44fc238642",
            "a1f3d730228a45ce8b32278e434817d6",
            "f2b951266a714a18896107a92facbe01",
            "e9e0c5713eef4e959604b0aa35ada825",
            "a35e9e9bca7a43d4a9ac97ec0c24cc0b",
            "369414cbb5b74c3985bf662d4f46a077",
            "3bc95aa0c7ac45968b4c5a6e28fd6518",
            "43f147e7dfe14292a88ef2b93c8e2768",
            "d3659bd05d614ccd97c1182880be3a78",
            "213173c5903742c08f5ea2619f44862e",
            "ad6ebae8c2d5428b93af937d8f6285d0",
            "738d6bdd16b54f339be9242d22d5a52e",
            "40590d7295614f408c9f3aa9f29016d4",
            "f0dcfe6f6adc463cb7fef8f0588491d9",
            "7151c0f9fc304e72baff174fd7233da9",
            "b9b5e06439244749a3b828f8b9277718"
          ]
        },
        "id": "oKxFWXaKQvBy",
        "outputId": "c9dfb891-aa86-4e16-882c-68c16a125088"
      },
      "source": [
        "#%% tokenize the text\n",
        "def tokenize(data, labels, tokenizer, vocab, max_seq_length=150):\n",
        "    vocab_to_idx = {word: i for i, word in enumerate(vocab)}\n",
        "    text_data = []\n",
        "    label_data = []\n",
        "    for ex in tqdm(data):\n",
        "        tokenized = tokenizer.tokenize(ex.lower())\n",
        "        ids = [vocab_to_idx.get(token, 1) for token in tokenized]\n",
        "        text_data.append(ids)\n",
        "    return text_data, labels\n",
        "tokenizer = sacremoses.MosesTokenizer()\n",
        "train_data_indices, train_labels = tokenize(train_email, train_labels, tokenizer, vocab)\n",
        "val_data_indices, val_labels = tokenize(email_text5, labels5, tokenizer, vocab)\n",
        "test_data_indices, test_labels = tokenize(email_text6, labels6, tokenizer, vocab)"
      ],
      "execution_count": null,
      "outputs": [
        {
          "output_type": "display_data",
          "data": {
            "application/vnd.jupyter.widget-view+json": {
              "model_id": "ac03ed53d61e452eaeaf0d32189f55a9",
              "version_minor": 0,
              "version_major": 2
            },
            "text/plain": [
              "HBox(children=(FloatProgress(value=0.0, max=22541.0), HTML(value='')))"
            ]
          },
          "metadata": {
            "tags": []
          }
        },
        {
          "output_type": "stream",
          "text": [
            "\n"
          ],
          "name": "stdout"
        },
        {
          "output_type": "display_data",
          "data": {
            "application/vnd.jupyter.widget-view+json": {
              "model_id": "f8c41b7b130b4044bada3b44fc238642",
              "version_minor": 0,
              "version_major": 2
            },
            "text/plain": [
              "HBox(children=(FloatProgress(value=0.0, max=5175.0), HTML(value='')))"
            ]
          },
          "metadata": {
            "tags": []
          }
        },
        {
          "output_type": "stream",
          "text": [
            "\n"
          ],
          "name": "stdout"
        },
        {
          "output_type": "display_data",
          "data": {
            "application/vnd.jupyter.widget-view+json": {
              "model_id": "d3659bd05d614ccd97c1182880be3a78",
              "version_minor": 0,
              "version_major": 2
            },
            "text/plain": [
              "HBox(children=(FloatProgress(value=0.0, max=6000.0), HTML(value='')))"
            ]
          },
          "metadata": {
            "tags": []
          }
        },
        {
          "output_type": "stream",
          "text": [
            "\n"
          ],
          "name": "stdout"
        }
      ]
    },
    {
      "cell_type": "code",
      "metadata": {
        "colab": {
          "base_uri": "https://localhost:8080/"
        },
        "id": "BAxs1BEIR3wh",
        "outputId": "318edcda-82f8-4a0b-83a7-9409de0d9658"
      },
      "source": [
        "#%%get the dataset (in a form that's interpretable for pytorch)\n",
        "from torch.utils.data import Dataset\n",
        "\n",
        "class GetDataset(Dataset):\n",
        "    \"\"\"\n",
        "    Class that represents a train/validation/test dataset that's readable for PyTorch\n",
        "    Note that this class inherits torch.utils.data.Dataset\n",
        "    \"\"\"\n",
        "    \n",
        "    def __init__(self, data_list, target_list, max_sent_length=128):\n",
        "        \"\"\"\n",
        "        @param data_list: list of data tokens \n",
        "        @param target_list: list of data targets \n",
        "\n",
        "        \"\"\"\n",
        "        self.data_list = data_list;\n",
        "        self.target_list = target_list;\n",
        "        self.max_sent_length = max_sent_length;\n",
        "        assert (len(self.data_list) == len(self.target_list))\n",
        "\n",
        "    def __len__(self):\n",
        "        return len(self.data_list)\n",
        "        \n",
        "    def __getitem__(self, key, max_sent_length=None):\n",
        "        \"\"\"\n",
        "        Triggered when you call dataset[i]\n",
        "        \"\"\"\n",
        "        if max_sent_length is None:\n",
        "            max_sent_length = self.max_sent_length;\n",
        "        token_idx = self.data_list[key][:max_sent_length];\n",
        "        label = self.target_list[key];\n",
        "        return [token_idx, label]\n",
        "\n",
        "    def spam_collate_func(self,batch):\n",
        "        \"\"\"\n",
        "        Customized function for DataLoader that dynamically pads the batch so that all \n",
        "        data have the same length\n",
        "        \"\"\" \n",
        "        data_list = [] # store padded sequences\n",
        "        label_list = []\n",
        "        max_batch_seq_len = None # the length of longest sequence in batch\n",
        "                                 # if it is less than self.max_sent_length\n",
        "                                 # else max_batch_seq_len = self.max_sent_length\n",
        "\n",
        "        \"\"\"\n",
        "          # Pad the sequences in your data \n",
        "          # if their length is less than max_batch_seq_len\n",
        "          # or trim the sequences that are longer than self.max_sent_length\n",
        "          # return padded data_list and label_list\n",
        "\n",
        "        \"\"\"\n",
        "        label_list = [datum[1] for datum in batch]\n",
        "        max_batch_seq_len = max(len(datum[0]) for datum in batch)\n",
        "        if max_batch_seq_len > self.max_sent_length:\n",
        "            max_batch_seq_len = self.max_sent_length\n",
        "\n",
        "        for datum in batch:\n",
        "            padded_vec = np.pad(np.array(datum[0]), \n",
        "                                    pad_width=((0,max_batch_seq_len-len(datum[0]))), \n",
        "                                    mode=\"constant\", constant_values=0)\n",
        "            data_list.append(padded_vec)\n",
        "        data_list = torch.from_numpy(np.array(data_list))\n",
        "        label_list = torch.LongTensor(label_list)        \n",
        "\n",
        "        return [data_list, label_list]\n",
        "\n",
        "BATCH_SIZE = 64\n",
        "max_sent_length=150\n",
        "train_dataset = GetDataset(train_data_indices, train_labels, max_sent_length)\n",
        "train_loader = torch.utils.data.DataLoader(dataset=train_dataset, \n",
        "                                           batch_size=BATCH_SIZE,\n",
        "                                           collate_fn=train_dataset.spam_collate_func,\n",
        "                                           shuffle=True)\n",
        "\n",
        "val_dataset = GetDataset(val_data_indices, val_labels, train_dataset.max_sent_length)\n",
        "val_loader = torch.utils.data.DataLoader(dataset=val_dataset, \n",
        "                                           batch_size=BATCH_SIZE,\n",
        "                                           collate_fn=train_dataset.spam_collate_func,\n",
        "                                           shuffle=False)\n",
        "\n",
        "test_dataset = GetDataset(test_data_indices, test_labels, train_dataset.max_sent_length)\n",
        "test_loader = torch.utils.data.DataLoader(dataset=test_dataset, \n",
        "                                           batch_size=BATCH_SIZE,\n",
        "                                           collate_fn=train_dataset.spam_collate_func,\n",
        "                                           shuffle=False)\n",
        "print('Dataset built successfully!');\n"
      ],
      "execution_count": null,
      "outputs": [
        {
          "output_type": "stream",
          "text": [
            "Dataset built successfully!\n"
          ],
          "name": "stdout"
        }
      ]
    },
    {
      "cell_type": "code",
      "metadata": {
        "colab": {
          "base_uri": "https://localhost:8080/"
        },
        "id": "XveL1k67ngNN",
        "outputId": "fb865b38-e0d4-439f-a9df-2ad7bb3adf87"
      },
      "source": [
        "len(val_data_indices),len(val_labels)"
      ],
      "execution_count": null,
      "outputs": [
        {
          "output_type": "execute_result",
          "data": {
            "text/plain": [
              "(5175, 5175)"
            ]
          },
          "metadata": {
            "tags": []
          },
          "execution_count": 41
        }
      ]
    },
    {
      "cell_type": "code",
      "metadata": {
        "colab": {
          "base_uri": "https://localhost:8080/"
        },
        "id": "GuVFpsNYeF43",
        "outputId": "aa3a9cde-c9c9-45f7-f64a-673bdd7da618"
      },
      "source": [
        "data_batch, labels = next(iter(train_loader))\n",
        "print(\"data batch dimension: \", data_batch.size())\n",
        "print(\"data_batch: \", data_batch)\n",
        "print(\"labels: \", labels)\n",
        "embedding_layer = nn.Embedding(embeddings.shape[0], embeddings.shape[1], padding_idx=0)\n",
        "embedding_layer.weight.data = torch.Tensor(embeddings).float()\n",
        "temp = embedding_layer(data_batch)\n",
        "temp"
      ],
      "execution_count": null,
      "outputs": [
        {
          "output_type": "stream",
          "text": [
            "data batch dimension:  torch.Size([64, 150])\n",
            "data_batch:  tensor([[ 1700,  1938,  1062,  ...,     2,     1,   310],\n",
            "        [ 1700,  1767,   742,  ...,  1373,    14,    83],\n",
            "        [ 1700,   630,   636,  ...,     1,    14,   323],\n",
            "        ...,\n",
            "        [ 1700, 15001,  3519,  ..., 10110,    50,     5],\n",
            "        [ 1700, 35927, 19038,  ...,     0,     0,     0],\n",
            "        [ 1700, 35927, 35927,  ...,     0,     0,     0]])\n",
            "labels:  tensor([1, 0, 0, 1, 0, 1, 0, 0, 0, 1, 0, 1, 0, 1, 0, 1, 0, 0, 1, 0, 1, 0, 0, 0,\n",
            "        0, 1, 0, 1, 0, 0, 0, 0, 0, 1, 0, 1, 0, 1, 1, 0, 1, 0, 0, 1, 1, 0, 0, 1,\n",
            "        0, 0, 1, 1, 1, 1, 1, 0, 0, 0, 1, 0, 0, 1, 0, 0])\n"
          ],
          "name": "stdout"
        },
        {
          "output_type": "execute_result",
          "data": {
            "text/plain": [
              "tensor([[[-0.2184, -0.2812,  0.3738,  ...,  0.0169,  0.1652,  0.1304],\n",
              "         [ 0.2121,  0.3026,  0.0933,  ...,  0.7090,  0.0328,  0.1230],\n",
              "         [ 0.4426,  0.3437, -0.2069,  ...,  0.5162, -0.1697, -0.1191],\n",
              "         ...,\n",
              "         [ 0.0466,  0.2132, -0.0074,  ...,  0.0091, -0.2099,  0.0539],\n",
              "         [ 0.5558,  0.6965,  0.4320,  ...,  0.5765,  0.9509,  0.8876],\n",
              "         [-0.3887, -0.3038,  0.1527,  ..., -0.0185, -0.0993, -0.0053]],\n",
              "\n",
              "        [[-0.2184, -0.2812,  0.3738,  ...,  0.0169,  0.1652,  0.1304],\n",
              "         [ 0.3508, -0.2135, -0.0103,  ..., -0.4211, -0.0879,  0.3736],\n",
              "         [-0.0522, -0.1692,  0.1898,  ...,  0.0850,  0.1513,  0.1694],\n",
              "         ...,\n",
              "         [-0.1908, -0.0040, -0.0949,  ..., -0.3659,  0.1502,  0.1124],\n",
              "         [-0.1826,  0.4985, -0.1639,  ..., -0.2722, -0.1911, -0.0941],\n",
              "         [-0.2843,  0.0480, -0.1506,  ..., -0.0901,  0.0169,  0.2928]],\n",
              "\n",
              "        [[-0.2184, -0.2812,  0.3738,  ...,  0.0169,  0.1652,  0.1304],\n",
              "         [ 0.3563, -0.0457, -0.4918,  ..., -0.7187,  0.0050,  0.6314],\n",
              "         [ 0.7842,  0.0388, -0.5171,  ..., -0.5215, -0.2079, -0.0635],\n",
              "         ...,\n",
              "         [ 0.5558,  0.6965,  0.4320,  ...,  0.5765,  0.9509,  0.8876],\n",
              "         [-0.1826,  0.4985, -0.1639,  ..., -0.2722, -0.1911, -0.0941],\n",
              "         [ 0.2850,  0.2140,  0.6983,  ..., -0.6593, -0.4847, -0.0517]],\n",
              "\n",
              "        ...,\n",
              "\n",
              "        [[-0.2184, -0.2812,  0.3738,  ...,  0.0169,  0.1652,  0.1304],\n",
              "         [-0.5286,  0.6120, -0.3896,  ..., -0.0913,  0.5134, -0.6008],\n",
              "         [ 0.4316, -0.0626,  0.0025,  ..., -0.2109,  0.7850,  0.2936],\n",
              "         ...,\n",
              "         [ 0.0391,  0.3460,  0.1155,  ..., -0.2009,  0.3085, -0.2755],\n",
              "         [-0.3676,  0.3950, -0.2703,  ..., -0.3725, -0.3899,  0.0315],\n",
              "         [-0.0769, -0.0212,  0.2127,  ...,  0.1835, -0.2918, -0.0465]],\n",
              "\n",
              "        [[-0.2184, -0.2812,  0.3738,  ...,  0.0169,  0.1652,  0.1304],\n",
              "         [ 0.3731,  0.0722, -1.3373,  ..., -0.8751, -0.5074, -0.5637],\n",
              "         [-0.2979,  0.0200,  0.0212,  ..., -0.1818, -0.3333, -0.5141],\n",
              "         ...,\n",
              "         [ 0.0000,  0.0000,  0.0000,  ...,  0.0000,  0.0000,  0.0000],\n",
              "         [ 0.0000,  0.0000,  0.0000,  ...,  0.0000,  0.0000,  0.0000],\n",
              "         [ 0.0000,  0.0000,  0.0000,  ...,  0.0000,  0.0000,  0.0000]],\n",
              "\n",
              "        [[-0.2184, -0.2812,  0.3738,  ...,  0.0169,  0.1652,  0.1304],\n",
              "         [ 0.3731,  0.0722, -1.3373,  ..., -0.8751, -0.5074, -0.5637],\n",
              "         [ 0.3731,  0.0722, -1.3373,  ..., -0.8751, -0.5074, -0.5637],\n",
              "         ...,\n",
              "         [ 0.0000,  0.0000,  0.0000,  ...,  0.0000,  0.0000,  0.0000],\n",
              "         [ 0.0000,  0.0000,  0.0000,  ...,  0.0000,  0.0000,  0.0000],\n",
              "         [ 0.0000,  0.0000,  0.0000,  ...,  0.0000,  0.0000,  0.0000]]],\n",
              "       grad_fn=<EmbeddingBackward>)"
            ]
          },
          "metadata": {
            "tags": []
          },
          "execution_count": 42
        }
      ]
    },
    {
      "cell_type": "code",
      "metadata": {
        "id": "cYNP-rCBUCzQ"
      },
      "source": [
        "class LSTMclassifier(nn.Module):\n",
        "  def __init__(self,embeddings,hidden_size,num_layers,num_classes,dropout_rate=0.2):\n",
        "    super().__init__();\n",
        "    self.embedding_layer = self.load_pretrained_embeddings(embeddings);\n",
        "    self.hidden_size = hidden_size;\n",
        "    self.num_layers = num_layers;\n",
        "    self.dropout = nn.Dropout(p=dropout_rate);\n",
        "    self.lstm = nn.LSTM(embeddings.shape[1], hidden_size, num_layers, batch_first=True, dropout=0.3);\n",
        "    self.relu = nn.ReLU();\n",
        "    self.clf = nn.Linear(hidden_size,num_classes);\n",
        "  \n",
        "  def load_pretrained_embeddings(self, embeddings):\n",
        "    embedding_layer = nn.Embedding(embeddings.shape[0], embeddings.shape[1], padding_idx=0)\n",
        "    embedding_layer.weight.data = torch.Tensor(embeddings).float()\n",
        "    return embedding_layer\n",
        "  \n",
        "  def forward(self,input_data):\n",
        "    batch_size = input_data.size()[0] # inputs : batch_sz, seq_len\n",
        "    output = self.dropout(self.embedding_layer(input_data));\n",
        "    #output,_ = self.lstm(output,None);\n",
        "    output = self.lstm(output, None)[0];\n",
        "    output = output.mean(1)\n",
        "    output = self.relu(output)\n",
        "    #out = self.relu(torch.mean(out,1))\n",
        "    logits = self.clf(output)\n",
        "    return logits"
      ],
      "execution_count": null,
      "outputs": []
    },
    {
      "cell_type": "code",
      "metadata": {
        "id": "CPY8ZqB7Ylt6"
      },
      "source": [
        "def evaluate(model, dataloader, device):\n",
        "    model.eval();\n",
        "    n_correct, n_total = 0,0;\n",
        "    model.eval();\n",
        "    with torch.no_grad():\n",
        "        for (data_batch, batch_labels) in dataloader:\n",
        "            output = model(data_batch.to(device));\n",
        "            max_scores, preds = output.max(dim=1);\n",
        "            n_correct += np.sum(preds.cpu().numpy() == batch_labels.numpy());\n",
        "            n_total += output.shape[0];\n",
        "    accuracy = n_correct * 1.0 / n_total;\n",
        "    return accuracy "
      ],
      "execution_count": null,
      "outputs": []
    },
    {
      "cell_type": "code",
      "metadata": {
        "colab": {
          "base_uri": "https://localhost:8080/"
        },
        "id": "DoQwAdbrZilv",
        "outputId": "e214dce3-cfb9-478f-9aa4-74f7876b05ec"
      },
      "source": [
        "#%%\n",
        "## set hyperparameters\n",
        "hidden_size = 32;\n",
        "num_layers = 1;\n",
        "num_classes = 2;\n",
        "torch.manual_seed(1234); #?\n",
        "\n",
        "# if cuda exists, use cuda, else run on cpu\n",
        "if torch.cuda.is_available():\n",
        "    device = torch.device(\"cuda:0\")\n",
        "else:\n",
        "    device=torch.device('cpu')\n",
        "\n",
        "# set and train the model\n",
        "model = LSTMclassifier(embeddings, hidden_size, num_layers, num_classes)\n",
        "model.to(device)\n",
        "criterion = nn.CrossEntropyLoss()\n",
        "optimizer = optim.Adam(model.parameters(), lr=0.01)"
      ],
      "execution_count": null,
      "outputs": [
        {
          "output_type": "stream",
          "text": [
            "/usr/local/lib/python3.7/dist-packages/torch/nn/modules/rnn.py:63: UserWarning: dropout option adds dropout after all but last recurrent layer, so non-zero dropout expects num_layers greater than 1, but got dropout=0.3 and num_layers=1\n",
            "  \"num_layers={}\".format(dropout, num_layers))\n"
          ],
          "name": "stderr"
        }
      ]
    },
    {
      "cell_type": "code",
      "metadata": {
        "colab": {
          "base_uri": "https://localhost:8080/"
        },
        "id": "-S8dFNTekVXJ",
        "outputId": "3239a1bb-389c-4dec-cbbd-fa819211a400"
      },
      "source": [
        "device"
      ],
      "execution_count": null,
      "outputs": [
        {
          "output_type": "execute_result",
          "data": {
            "text/plain": [
              "device(type='cuda', index=0)"
            ]
          },
          "metadata": {
            "tags": []
          },
          "execution_count": 46
        }
      ]
    },
    {
      "cell_type": "code",
      "metadata": {
        "colab": {
          "base_uri": "https://localhost:8080/",
          "height": 168,
          "referenced_widgets": [
            "7d58344dc9d94178b0fd66dde21780d0",
            "925147267b794970bcee9692c771aa0f",
            "8d66c95fdca944d9a07ad4e5798930cb",
            "d46094ba877d4cd1a8ffc585121602d2",
            "287f969885f747df842b36de810b899f",
            "cfcceebf33ae4625844f99681d121a10",
            "c413de4c690a4db88196b0ff6189e07b",
            "9b0b06320f774e62befa21700b0879cb"
          ]
        },
        "id": "gUHAn2aMbpEq",
        "outputId": "1b0ed661-6916-4f00-dbec-35ca3735ae25"
      },
      "source": [
        "train_loss_history = [];\n",
        "val_accuracy_history = [];\n",
        "best_val_accuracy = 0;\n",
        "n_no_improve = 0;\n",
        "es_step_tolerance = 2; #steps tolerant to go before early stop\n",
        "epochs = 10;\n",
        "  \n",
        "for epoch in tqdm(range(epochs)):\n",
        "    model.train() # this enables regularization, which we don't currently have\n",
        "    for i, (data_batch, batch_labels) in enumerate(train_loader):\n",
        "        \"\"\"\n",
        "           Code for training lstm\n",
        "           Keep track of training of for each batch using train_loss_history\n",
        "        \"\"\"\n",
        "        preds = model(data_batch.to(device));\n",
        "        loss = criterion(preds, batch_labels.to(device));\n",
        "        loss.backward();\n",
        "        optimizer.step();\n",
        "        optimizer.zero_grad();\n",
        "        train_loss_history.append(loss.item());\n",
        "        \n",
        "    # The end of a training epoch \n",
        "    cur_val_accuracy = evaluate(model, val_loader, device=device);\n",
        "    val_accuracy_history.append(cur_val_accuracy);\n",
        "    print(\"epoch: {}, val_accuracy: {}\".format(epoch+1, cur_val_accuracy));\n",
        "    if cur_val_accuracy > best_val_accuracy:\n",
        "        best_val_accuracy = cur_val_accuracy;\n",
        "        torch.save(model, 'best_model.pt');\n",
        "        n_no_improve = 0;\n",
        "    else:\n",
        "        n_no_improve += 1;\n",
        "\n",
        "    if n_no_improve > es_step_tolerance:\n",
        "        print(\"Early stopped at epoch \",epoch+1)\n",
        "        break"
      ],
      "execution_count": null,
      "outputs": [
        {
          "output_type": "display_data",
          "data": {
            "application/vnd.jupyter.widget-view+json": {
              "model_id": "7d58344dc9d94178b0fd66dde21780d0",
              "version_minor": 0,
              "version_major": 2
            },
            "text/plain": [
              "HBox(children=(FloatProgress(value=0.0, max=10.0), HTML(value='')))"
            ]
          },
          "metadata": {
            "tags": []
          }
        },
        {
          "output_type": "stream",
          "text": [
            "epoch: 1, val_accuracy: 0.8488888888888889\n",
            "epoch: 2, val_accuracy: 0.9828019323671497\n",
            "epoch: 3, val_accuracy: 0.9847342995169082\n",
            "epoch: 4, val_accuracy: 0.9841545893719806\n",
            "epoch: 5, val_accuracy: 0.9835748792270531\n",
            "epoch: 6, val_accuracy: 0.9820289855072464\n",
            "Early stopped at epoch  6\n"
          ],
          "name": "stdout"
        }
      ]
    },
    {
      "cell_type": "code",
      "metadata": {
        "colab": {
          "base_uri": "https://localhost:8080/"
        },
        "id": "pZMT16OIl2aV",
        "outputId": "2caca8fa-7a46-43f4-b525-8cb22427e572"
      },
      "source": [
        "model = torch.load('best_model.pt')\n",
        "test_accuracy = evaluate(model, test_loader, device)\n",
        "\n",
        "\n",
        "print(test_accuracy)"
      ],
      "execution_count": null,
      "outputs": [
        {
          "output_type": "stream",
          "text": [
            "0.9786666666666667\n"
          ],
          "name": "stdout"
        }
      ]
    },
    {
      "cell_type": "code",
      "metadata": {
        "colab": {
          "base_uri": "https://localhost:8080/",
          "height": 282
        },
        "id": "LSfRc7M5ob6I",
        "outputId": "26486521-a9d7-41ca-ab0e-66082f87dc40"
      },
      "source": [
        "pd.Series(val_accuracy_history).plot()"
      ],
      "execution_count": null,
      "outputs": [
        {
          "output_type": "execute_result",
          "data": {
            "text/plain": [
              "<matplotlib.axes._subplots.AxesSubplot at 0x7fa825ec1f90>"
            ]
          },
          "metadata": {
            "tags": []
          },
          "execution_count": 50
        },
        {
          "output_type": "display_data",
          "data": {
            "image/png": "[encoded data removed]",
            "text/plain": [
              "<Figure size 432x288 with 1 Axes>"
            ]
          },
          "metadata": {
            "tags": [],
            "needs_background": "light"
          }
        }
      ]
    },
    {
      "cell_type": "code",
      "metadata": {
        "id": "HfVTpKl0K-cH"
      },
      "source": [
        "#%% 4. convert text to sequences and create a weight matrix for words in training docs\n",
        "# prepare tokenizer\n",
        "\n",
        "max_length = 150\n",
        "\n",
        "def convert_to_seq(email_text):\n",
        "  t = Tokenizer()\n",
        "  t.fit_on_texts(email_text)\n",
        "  vocab_size = len(t.word_index) + 1\n",
        "  # integer encode the documents\n",
        "  encoded_docs = t.texts_to_sequences(email_text)\n",
        "  # print(encoded_docs)\n",
        "  # pad documents to a max length of 4 words\n",
        "  padded_docs = pad_sequences(encoded_docs, maxlen=max_length, padding='post')\n",
        "  stop_count = 0\n",
        "  embedding_matrix = np.zeros((len(train_email), 150, 300))\n",
        "  for i in range(len(email_text)):\n",
        "    email_matrix = np.zeros(shape=len(email_text[i]));\n",
        "    for j in range(len(email_text[i])):\n",
        "        if stop_count == 0:\n",
        "          print(type(embeddings_index.get(word)),len(embeddings_index.get(word)));\n",
        "          stop_count += 1\n",
        "          continue\n",
        "        else:\n",
        "          x = input('what\\'s next?');\n",
        "        embedding_vector = np.array(embeddings_index.get(word),dtype=object);\n",
        "        if embedding_vector.all() != None:\n",
        "          email_matrix[j,:,:] = np.array(embedding_vector,dtype=object);\n",
        "    #email_matrix = np.array(np.array([embeddings_index[word] for word in email_text[i] if word in embeddings_index.keys() and embeddings_index[word][0] != None ]));\n",
        "    embedding_matrix[i,:,:] = email_matrix;\n",
        "  \n",
        "  # for word, i in t.word_index.items():\n",
        "  #   embedding_vector = embeddings_index.get(word)\n",
        "  #   if embedding_vector is not None:\n",
        "  #     embedding_matrix[i] = embedding_vector  \n",
        "\n",
        "  return vocab_size, embedding_matrix, padded_docs\n",
        "\n",
        "train_vocab_size, train_embedding_matrix, train_padded_docs = convert_to_seq(train_email)\n",
        "vocab_size5, embedding_matrix5, padded_docs5 = convert_to_seq(email_text5)\n",
        "vocab_size6, embedding_matrix6, padded_docs6 = convert_to_seq(email_text6)"
      ],
      "execution_count": null,
      "outputs": []
    },
    {
      "cell_type": "code",
      "metadata": {
        "colab": {
          "base_uri": "https://localhost:8080/"
        },
        "id": "Ih1Xw8f1k0Qc",
        "outputId": "77b90666-b878-4289-cdb3-e1b9947fc1e8"
      },
      "source": [
        "train_vocab_size"
      ],
      "execution_count": null,
      "outputs": [
        {
          "output_type": "execute_result",
          "data": {
            "text/plain": [
              "226227"
            ]
          },
          "metadata": {
            "tags": []
          },
          "execution_count": 65
        }
      ]
    },
    {
      "cell_type": "code",
      "metadata": {
        "colab": {
          "base_uri": "https://localhost:8080/"
        },
        "id": "uoUKaJ2Rf00g",
        "outputId": "c525180f-6155-4682-b3a7-998439db3f2b"
      },
      "source": [
        "t = Tokenizer()\n",
        "t.fit_on_texts(train_email)\n",
        "vocab_size = len(t.word_index) + 1\n",
        "vocab_size"
      ],
      "execution_count": null,
      "outputs": [
        {
          "output_type": "execute_result",
          "data": {
            "text/plain": [
              "226227"
            ]
          },
          "metadata": {
            "tags": []
          },
          "execution_count": 52
        }
      ]
    },
    {
      "cell_type": "code",
      "metadata": {
        "colab": {
          "base_uri": "https://localhost:8080/"
        },
        "id": "yIP7dMETfhkg",
        "outputId": "91413fbe-cf15-4261-fcf8-9c6d23d641f5"
      },
      "source": [
        "train_padded_docs.shape"
      ],
      "execution_count": null,
      "outputs": [
        {
          "output_type": "execute_result",
          "data": {
            "text/plain": [
              "(22541, 150)"
            ]
          },
          "metadata": {
            "tags": []
          },
          "execution_count": 55
        }
      ]
    },
    {
      "cell_type": "code",
      "metadata": {
        "colab": {
          "base_uri": "https://localhost:8080/"
        },
        "id": "v-ogCq0PXVYX",
        "outputId": "79e0be07-605f-4b7c-abad-982d53d538f0"
      },
      "source": [
        "#%% 5. model\n",
        "# define model\n",
        "\n",
        "model = Sequential()\n",
        "e = Embedding(train_vocab_size, 300, weights=[train_embedding_matrix], input_length=max_length, trainable=False)\n",
        "model.add(e)\n",
        "model.add(LSTM(100, dropout = 0.2))\n",
        "model.add(Flatten())\n",
        "model.add(Dense(1, activation='sigmoid'))\n",
        "\n",
        "# compile the model\n",
        "model.compile(optimizer='adam', loss='binary_crossentropy', metrics=['accuracy'])\n",
        "\n",
        "# summarize the model\n",
        "print(model.summary())"
      ],
      "execution_count": null,
      "outputs": [
        {
          "output_type": "stream",
          "text": [
            "Model: \"sequential_3\"\n",
            "_________________________________________________________________\n",
            "Layer (type)                 Output Shape              Param #   \n",
            "=================================================================\n",
            "embedding_3 (Embedding)      (None, 150, 300)          67868100  \n",
            "_________________________________________________________________\n",
            "lstm_3 (LSTM)                (None, 100)               160400    \n",
            "_________________________________________________________________\n",
            "flatten_3 (Flatten)          (None, 100)               0         \n",
            "_________________________________________________________________\n",
            "dense_3 (Dense)              (None, 1)                 101       \n",
            "=================================================================\n",
            "Total params: 68,028,601\n",
            "Trainable params: 160,501\n",
            "Non-trainable params: 67,868,100\n",
            "_________________________________________________________________\n",
            "None\n"
          ],
          "name": "stdout"
        }
      ]
    },
    {
      "cell_type": "code",
      "metadata": {
        "colab": {
          "base_uri": "https://localhost:8080/"
        },
        "id": "hZy0_1pLjxPj",
        "outputId": "14ac09f4-8485-4466-808d-1e985748e42c"
      },
      "source": [
        "# use training data to fit the model\n",
        "start = time.time()\n",
        "model.fit(train_padded_docs, train_labels, epochs=10, validation_data= (padded_docs6,labels6),verbose=2)\n",
        "print(\"Load time (seconds): \", (time.time() - start))"
      ],
      "execution_count": null,
      "outputs": [
        {
          "output_type": "stream",
          "text": [
            "Epoch 1/10\n",
            "705/705 - 151s - loss: 0.5485 - accuracy: 0.6909 - val_loss: 1.2303 - val_accuracy: 0.2815\n",
            "Epoch 2/10\n",
            "705/705 - 146s - loss: 0.4740 - accuracy: 0.7708 - val_loss: 1.2512 - val_accuracy: 0.2992\n",
            "Epoch 3/10\n",
            "705/705 - 147s - loss: 0.4047 - accuracy: 0.8295 - val_loss: 1.7048 - val_accuracy: 0.3958\n",
            "Epoch 4/10\n",
            "705/705 - 145s - loss: 0.3182 - accuracy: 0.8539 - val_loss: 2.6751 - val_accuracy: 0.4303\n",
            "Epoch 5/10\n",
            "705/705 - 145s - loss: 0.2563 - accuracy: 0.9109 - val_loss: 1.8176 - val_accuracy: 0.4227\n",
            "Epoch 6/10\n",
            "705/705 - 154s - loss: 0.3081 - accuracy: 0.8780 - val_loss: 0.8824 - val_accuracy: 0.2592\n",
            "Epoch 7/10\n",
            "705/705 - 146s - loss: 0.3608 - accuracy: 0.8332 - val_loss: 2.0815 - val_accuracy: 0.3973\n",
            "Epoch 8/10\n",
            "705/705 - 145s - loss: 0.1848 - accuracy: 0.9415 - val_loss: 2.1583 - val_accuracy: 0.4212\n",
            "Epoch 9/10\n",
            "705/705 - 145s - loss: 0.1738 - accuracy: 0.9407 - val_loss: 2.8172 - val_accuracy: 0.4338\n",
            "Epoch 10/10\n",
            "705/705 - 144s - loss: 0.1812 - accuracy: 0.9394 - val_loss: 2.2795 - val_accuracy: 0.4162\n",
            "Load time (seconds):  1467.4618768692017\n"
          ],
          "name": "stdout"
        }
      ]
    },
    {
      "cell_type": "code",
      "metadata": {
        "colab": {
          "base_uri": "https://localhost:8080/"
        },
        "id": "I3WWZ3rwjysQ",
        "outputId": "ec2d2150-c459-4eeb-8dfd-f0b0a1998857"
      },
      "source": [
        "# evaluate the model\n",
        "# epoch 10\n",
        "# Accuracy: 94.68\n",
        "start2 = time.time()\n",
        "loss, accuracy = model.evaluate(train_padded_docs, train_labels, verbose=0)\n",
        "print('Accuracy: %f' % (accuracy*100))\n",
        "print(\"Load time (seconds): \", (time.time() - start2))"
      ],
      "execution_count": null,
      "outputs": [
        {
          "output_type": "stream",
          "text": [
            "Accuracy: 99.955636\n",
            "Load time (seconds):  43.148266553878784\n"
          ],
          "name": "stdout"
        }
      ]
    },
    {
      "cell_type": "code",
      "metadata": {
        "colab": {
          "base_uri": "https://localhost:8080/"
        },
        "id": "f1h5fKTaeQCG",
        "outputId": "d31eaeef-c82e-48f1-9ba7-d809b0c2f1d8"
      },
      "source": [
        "# evaluate the model\n",
        "# epoch 10\n",
        "# Accuracy: 94.68\n",
        "start2 = time.time()\n",
        "loss, accuracy = model.evaluate(padded_docs6, labels6, verbose=0)\n",
        "print('Accuracy: %f' % (accuracy*100))\n",
        "print(\"Load time (seconds): \", (time.time() - start2))"
      ],
      "execution_count": null,
      "outputs": [
        {
          "output_type": "stream",
          "text": [
            "Accuracy: 38.883334\n",
            "Load time (seconds):  11.62531065940857\n"
          ],
          "name": "stdout"
        }
      ]
    },
    {
      "cell_type": "code",
      "metadata": {
        "colab": {
          "base_uri": "https://localhost:8080/",
          "height": 35
        },
        "id": "ovv8zmo-j2AL",
        "outputId": "44d8c6a4-8e69-4638-8b97-7e2c85dba058"
      },
      "source": [
        "# epoch 30 time: 16m 13s\n",
        "# Accuracy: 75.77\n",
        "'''\n",
        "model.fit(padded_docs, labels, epochs=30, verbose=0)\n",
        "# evaluate the model\n",
        "loss, accuracy = model.evaluate(padded_docs, labels, verbose=0)\n",
        "print('Accuracy: %f' % (accuracy*100))\n",
        "'''"
      ],
      "execution_count": null,
      "outputs": [
        {
          "output_type": "execute_result",
          "data": {
            "application/vnd.google.colaboratory.intrinsic+json": {
              "type": "string"
            },
            "text/plain": [
              "\"\\nmodel.fit(padded_docs, labels, epochs=30, verbose=0)\\n# evaluate the model\\nloss, accuracy = model.evaluate(padded_docs, labels, verbose=0)\\nprint('Accuracy: %f' % (accuracy*100))\\n\""
            ]
          },
          "metadata": {
            "tags": []
          },
          "execution_count": 108
        }
      ]
    },
    {
      "cell_type": "code",
      "metadata": {
        "colab": {
          "base_uri": "https://localhost:8080/"
        },
        "id": "_LJD4FMLHIYp",
        "outputId": "623b4e72-4a41-4fa2-a46e-70e963415543"
      },
      "source": [
        "# Testing Accuracy\n",
        "loss_testing, accuracy_testing = model.evaluate(padded_docs5, labels5, verbose=0)\n",
        "print('Accuracy: %f' % (accuracy_testing*100))"
      ],
      "execution_count": null,
      "outputs": [
        {
          "output_type": "stream",
          "text": [
            "Accuracy: 37.874395\n"
          ],
          "name": "stdout"
        }
      ]
    },
    {
      "cell_type": "code",
      "metadata": {
        "id": "fnLzl9mAHIkb"
      },
      "source": [
        ""
      ],
      "execution_count": null,
      "outputs": []
    }
  ]
}